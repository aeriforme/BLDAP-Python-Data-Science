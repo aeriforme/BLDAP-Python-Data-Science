{
 "cells": [
  {
   "cell_type": "markdown",
   "metadata": {},
   "source": [
    "\n",
    "----\n",
    "\n",
    "# NumPy Arrays\n",
    "\n",
    "\n",
    "\n",
    "---\n",
    "\n",
    "### Table of Contents\n",
    "\n",
    "\n",
    "1 - [Creating NumPy Arrays](#section1)<br>\n",
    "\n",
    "2 - [Basic Operations with NumPy Arrays](#section2)<br>\n",
    "\n",
    "3 - [Indexing & Slicing NumPy Arrays](#section3)<br>\n",
    "\n",
    "4 - [NumPy Arrays Applications](#section4)<br>\n",
    "\n",
    "&nbsp;&nbsp;&nbsp;&nbsp;&nbsp;&nbsp; 4.1 - [Finding the Average Hours of Daylight](#subsection1)<br>\n",
    "\n",
    "&nbsp;&nbsp;&nbsp;&nbsp;&nbsp;&nbsp; 4.2 - [Finding the Elevation of a Hiking Path](#subsection2)<br>\n",
    "\n",
    "5 - [Exit Ticket](#section5)<br>\n",
    "\n",
    "---"
   ]
  },
  {
   "cell_type": "markdown",
   "metadata": {},
   "source": [
    "NumPy (short for \"Numerical Python\") is a Python library that allows us to work with arrays and easily process large amounts of numerical data. This means we must import the library in order to use it! \n",
    "\n",
    "In order to save us some typing time we can give our libraries a shorter alias, like <b>np</b> for NumPy."
   ]
  },
  {
   "cell_type": "code",
   "execution_count": 32,
   "metadata": {},
   "outputs": [],
   "source": [
    "import numpy as np\n",
    "from matplotlib import pyplot as plt\n",
    "%matplotlib inline\n",
    "from jupyter_utils import *"
   ]
  },
  {
   "cell_type": "markdown",
   "metadata": {},
   "source": [
    "## Creating Numpy Arrays  <a id='section1'></a>\n"
   ]
  },
  {
   "cell_type": "markdown",
   "metadata": {},
   "source": [
    "A NumPy array is just a table of data of the same type. From [NumPy.org](https://numpy.org/doc/stable/user/absolute_beginners.html): NumPy arrays can be used to perform a wide variety of mathematical operations on arrays. It adds powerful data structures to Python that guarantee efficient calculations with arrays and matrices and it supplies an enormous library of high-level mathematical functions that operate on these arrays and matrices.\n",
    "\n",
    "\n",
    "In order to use NumPy you can either convert data you already have into a NumPy array or create a blank array from scratch. NumPy arrays and Python lists are similar, yet they react differently to various operations."
   ]
  },
  {
   "cell_type": "code",
   "execution_count": null,
   "metadata": {},
   "outputs": [],
   "source": [
    "#Create an array\n",
    "array1 = np.array([1,2,3,4])\n",
    "\n",
    "#Create a list\n",
    "list1 = [1,2,3,4]\n",
    "\n",
    "array1, list1"
   ]
  },
  {
   "cell_type": "markdown",
   "metadata": {},
   "source": [
    "Try doing the following operations and see if you notice any differences!\n",
    "\n",
    "array1 + array1\n",
    "\n",
    "list1 + list1\n",
    "\n",
    "array1 * array1\n",
    "\n",
    "list1 * list1"
   ]
  },
  {
   "cell_type": "code",
   "execution_count": null,
   "metadata": {},
   "outputs": [],
   "source": [
    "# EXERCISE\n",
    "\n",
    "print(...) # add two arrays\n",
    "print(...) # add two lists"
   ]
  },
  {
   "cell_type": "code",
   "execution_count": null,
   "metadata": {},
   "outputs": [],
   "source": [
    "# EXERCISE\n",
    "\n",
    "# multiply two arrays\n",
    "# multiply two lists\n",
    "\n",
    "print(...)\n",
    "print(...)"
   ]
  },
  {
   "cell_type": "code",
   "execution_count": 34,
   "metadata": {},
   "outputs": [
    {
     "data": {
      "text/plain": [
       "[0, 1, 2, 3, 4, 5]"
      ]
     },
     "execution_count": 34,
     "metadata": {},
     "output_type": "execute_result"
    }
   ],
   "source": [
    "# EXAMPLE\n",
    "\n",
    "# Create a new list\n",
    "\n",
    "list_of_numbers = [0, 1, 2, 3, 4, 5]\n",
    "list_of_numbers"
   ]
  },
  {
   "cell_type": "code",
   "execution_count": null,
   "metadata": {},
   "outputs": [],
   "source": [
    "# Example\n",
    "\n",
    "# Verify that it is indeed a regular Python list\n",
    "\n",
    "type(list_of_numbers)"
   ]
  },
  {
   "cell_type": "code",
   "execution_count": 35,
   "metadata": {},
   "outputs": [
    {
     "data": {
      "text/plain": [
       "array([0, 1, 2, 3, 4, 5])"
      ]
     },
     "execution_count": 35,
     "metadata": {},
     "output_type": "execute_result"
    }
   ],
   "source": [
    "# EXAMPLE\n",
    "\n",
    "#Create a new Numpy array from our list and display it\n",
    "\n",
    "array_from_list = np.array(list_of_numbers)\n",
    "array_from_list"
   ]
  },
  {
   "cell_type": "code",
   "execution_count": null,
   "metadata": {},
   "outputs": [],
   "source": [
    "# EXERCISE\n",
    "\n",
    "# Verify that it's an array and not a list\n",
    "\n",
    "..."
   ]
  },
  {
   "cell_type": "markdown",
   "metadata": {},
   "source": [
    "Usually, we get arrays from our data. If we don't yet have any data or just want a placeholder for our data, we can create a NumPy array filled with ones by calling `np.ones()` and specifying the size of the array in a tuple, (3, 4).\n",
    "\n",
    "*A tuple is another data type in Python. It's similar to a list, but uses parentheses instead of square brackets, and unlike lists, are unchangeable*"
   ]
  },
  {
   "cell_type": "code",
   "execution_count": null,
   "metadata": {},
   "outputs": [],
   "source": [
    "# EXAMPLE\n",
    "\n",
    "#Create an array of size 3x4 and fill it with ones\n",
    "\n",
    "ones_array = np.ones((3, 4))\n",
    "ones_array"
   ]
  },
  {
   "cell_type": "markdown",
   "metadata": {},
   "source": [
    "We can also create arrays filled with zeros."
   ]
  },
  {
   "cell_type": "code",
   "execution_count": null,
   "metadata": {},
   "outputs": [],
   "source": [
    "# EXERCISE\n",
    "\n",
    "# Create a 3x4 array of zeroes\n",
    "# It will have a similar syntax, but instead we need to call \n",
    "# a function \"zeros\", not \"ones\" from our NumPy library\n",
    "\n",
    "zeros_array = ...\n",
    "zeros_array"
   ]
  },
  {
   "cell_type": "code",
   "execution_count": null,
   "metadata": {},
   "outputs": [],
   "source": [
    "x = np.array([[1,2,3],[4,5,6],[7,8,9]])\n",
    "print(x)"
   ]
  },
  {
   "cell_type": "markdown",
   "metadata": {},
   "source": [
    "Similarly we can create NumPy arrays filled with any other value. To accomplish this we use `np.full` and specify both the size of the array and the value we would like to fill that array with."
   ]
  },
  {
   "cell_type": "code",
   "execution_count": null,
   "metadata": {},
   "outputs": [],
   "source": [
    "# EXAMPLE\n",
    "\n",
    "array_of_twos = np.full((3, 4), 2)\n",
    "array_of_twos"
   ]
  },
  {
   "cell_type": "code",
   "execution_count": null,
   "metadata": {},
   "outputs": [],
   "source": [
    "# EXERCISE\n",
    "\n",
    "# Create a 2x5 array of halves: \"0.5\" or \"1/2\"\n",
    "\n",
    "array_of_halves = ...\n",
    "array_of_halves"
   ]
  },
  {
   "cell_type": "markdown",
   "metadata": {},
   "source": [
    "We can create NumPy arrays with N evenly spaced numbers over a specified interval."
   ]
  },
  {
   "cell_type": "code",
   "execution_count": 6,
   "metadata": {},
   "outputs": [
    {
     "name": "stdout",
     "output_type": "stream",
     "text": [
      "[ 0.  1.  2.  3.  4.  5.  6.  7.  8.  9. 10.]\n"
     ]
    }
   ],
   "source": [
    "# EXAMPLE\n",
    "xmin = 0\n",
    "xmax = 10\n",
    "N = 11\n",
    "x = np.linspace(xmin, xmax, num)\n",
    "print(x)"
   ]
  },
  {
   "cell_type": "markdown",
   "metadata": {},
   "source": [
    "In the cell below, create a 4x3 array filled with Pi.\n",
    "\n",
    "**Hint:** Similar to the math library, you can use the the numpy library to import the value of pi."
   ]
  },
  {
   "cell_type": "code",
   "execution_count": null,
   "metadata": {},
   "outputs": [],
   "source": [
    "# EXERCISE\n",
    "\n",
    "array_of_pies = ...\n",
    "array_of_pies"
   ]
  },
  {
   "cell_type": "markdown",
   "metadata": {},
   "source": [
    "If we want NumPy to fill the array with random numbers between A and B, we can use `np.random.uniform()`.  \n",
    "We need to feed this function with the minimum and maximum number (A and B) and the size of the array as a tuple."
   ]
  },
  {
   "cell_type": "code",
   "execution_count": 4,
   "metadata": {},
   "outputs": [
    {
     "data": {
      "text/plain": [
       "array([[0.78036055, 0.54201832, 0.91191376],\n",
       "       [0.72145038, 0.92843295, 0.46814436]])"
      ]
     },
     "execution_count": 4,
     "metadata": {},
     "output_type": "execute_result"
    }
   ],
   "source": [
    "# EXAMPLE\n",
    "np.random.uniform(low=0, high=1, size=(2,3))"
   ]
  },
  {
   "cell_type": "markdown",
   "metadata": {},
   "source": [
    "## Basic Operations with Numpy Arrays  <a id='section2'></a>\n"
   ]
  },
  {
   "cell_type": "markdown",
   "metadata": {},
   "source": [
    "NumPy is much more than just an array creator.  \n",
    "It allows us to do blazingly fast operations with arrays.  \n",
    "Operations performed with NumPy on arrays can be computed significantly faster than with other Python functions on lists.  \n",
    "For example, let's say that we have an array of one million random probabilities of it raining on a particular day."
   ]
  },
  {
   "cell_type": "code",
   "execution_count": 5,
   "metadata": {},
   "outputs": [
    {
     "data": {
      "text/plain": [
       "array([0.24389453, 0.96840324, 0.87448317, ..., 0.97256482, 0.25756415,\n",
       "       0.76598709])"
      ]
     },
     "execution_count": 5,
     "metadata": {},
     "output_type": "execute_result"
    }
   ],
   "source": [
    "# EXAMPLE\n",
    "\n",
    "random_million = np.random.uniform(low=0, high=1, size=1000000)\n",
    "random_million"
   ]
  },
  {
   "cell_type": "markdown",
   "metadata": {},
   "source": [
    "Let's check that the array is actully one million numbers long. \n",
    "\n",
    "**Hint:** Just like with most other data structures (lists) and some data types (strings), you can use the traditional Python len( ) function to check the *length* of your object."
   ]
  },
  {
   "cell_type": "code",
   "execution_count": 12,
   "metadata": {},
   "outputs": [],
   "source": [
    "# EXERCISE\n"
   ]
  },
  {
   "cell_type": "markdown",
   "metadata": {},
   "source": [
    "Yep, that checks out.<br> <br>Now let's say that we want these probabilities to be in percentages (out of 100 rather) than proportions (from zero to one). We can just multiply the whole array by 100!"
   ]
  },
  {
   "cell_type": "code",
   "execution_count": 6,
   "metadata": {},
   "outputs": [
    {
     "data": {
      "text/plain": [
       "array([24.38945336, 96.84032365, 87.44831708, ..., 97.256482  ,\n",
       "       25.75641478, 76.59870881])"
      ]
     },
     "execution_count": 6,
     "metadata": {},
     "output_type": "execute_result"
    }
   ],
   "source": [
    "# EXAMPLE\n",
    "\n",
    "percentages = random_million * 100\n",
    "percentages"
   ]
  },
  {
   "cell_type": "markdown",
   "metadata": {},
   "source": [
    "Notice that NumPy accomplishes that multiplication in a fraction of a second when we use it with arrays. That's a million multiplications! In the cell below you can see how much longer the code is for doing the same operations on a list. \n",
    "\n",
    "**Note:** We cut our list to have 10,000 values only, because it can take it a long time to run a for-loop over 1 million values. "
   ]
  },
  {
   "cell_type": "code",
   "execution_count": 11,
   "metadata": {},
   "outputs": [],
   "source": [
    "# EXAMPLE\n",
    "\n",
    "random_mln_lst = list(random_million[:10000])\n",
    "percentages_lst = [] \n",
    "\n",
    "for i in random_mln_lst:\n",
    "    percentages_lst += [i*100] \n",
    "    \n",
    "#print(percentages_lst)    "
   ]
  },
  {
   "cell_type": "markdown",
   "metadata": {},
   "source": [
    " Let's see if we can get NumPy to at least break a sweat doing multiplications."
   ]
  },
  {
   "cell_type": "code",
   "execution_count": 13,
   "metadata": {},
   "outputs": [
    {
     "data": {
      "text/plain": [
       "array([43.42796358, 51.79174542, 97.01268896, ..., 66.33105235,\n",
       "        9.78958146, 60.71783851])"
      ]
     },
     "execution_count": 13,
     "metadata": {},
     "output_type": "execute_result"
    }
   ],
   "source": [
    "# EXAMPLE\n",
    "\n",
    "# 100 million multiplications\n",
    "np.random.uniform(low=0, high=1, size=100000000) * 100"
   ]
  },
  {
   "cell_type": "markdown",
   "metadata": {},
   "source": [
    "NumPy is really fast! Not to mention that it first needs to come up with the random numbers in the array, and only then can it do the multiplications we are asking it to do. That's pretty useful if you want to analyze a huge amount of data!"
   ]
  },
  {
   "cell_type": "markdown",
   "metadata": {},
   "source": [
    "Let's see what other operations we can do with NumPy arrays.\n",
    "\n",
    "Can it add the same number to all the elements of our array? How about subtracting it? Even dividing by it?"
   ]
  },
  {
   "cell_type": "code",
   "execution_count": null,
   "metadata": {},
   "outputs": [],
   "source": [
    "# EXAMPLE\n",
    "\n",
    "plus_fifty = random_million + 50\n",
    "plus_fifty"
   ]
  },
  {
   "cell_type": "markdown",
   "metadata": {},
   "source": [
    "How about if we want to divide each value by 2?"
   ]
  },
  {
   "cell_type": "code",
   "execution_count": null,
   "metadata": {},
   "outputs": [],
   "source": [
    "# EXERCISE\n",
    "\n",
    "divided_by_two = ...\n",
    "divided_by_two"
   ]
  },
  {
   "cell_type": "markdown",
   "metadata": {},
   "source": [
    "We can even do those arithmetic operations between two arrays if they are of the same size!"
   ]
  },
  {
   "cell_type": "code",
   "execution_count": null,
   "metadata": {},
   "outputs": [],
   "source": [
    "# EXAMPLE\n",
    "\n",
    "sum_of_arrays = divided_by_two + plus_fifty\n",
    "sum_of_arrays"
   ]
  },
  {
   "cell_type": "markdown",
   "metadata": {},
   "source": [
    "We can also sort the array"
   ]
  },
  {
   "cell_type": "code",
   "execution_count": 14,
   "metadata": {},
   "outputs": [
    {
     "data": {
      "text/plain": [
       "array([3.28045913e-07, 1.67809641e-06, 3.31039580e-06, ...,\n",
       "       9.99997705e-01, 9.99998269e-01, 9.99999055e-01])"
      ]
     },
     "execution_count": 14,
     "metadata": {},
     "output_type": "execute_result"
    }
   ],
   "source": [
    "# EXAMPLE\n",
    "sorted_random_million = np.sort(random_million)\n",
    "sorted_random_million"
   ]
  },
  {
   "cell_type": "markdown",
   "metadata": {},
   "source": [
    "Or flip it!"
   ]
  },
  {
   "cell_type": "code",
   "execution_count": 15,
   "metadata": {},
   "outputs": [
    {
     "data": {
      "text/plain": [
       "array([0.76598709, 0.25756415, 0.97256482, ..., 0.87448317, 0.96840324,\n",
       "       0.24389453])"
      ]
     },
     "execution_count": 15,
     "metadata": {},
     "output_type": "execute_result"
    }
   ],
   "source": [
    "# EXAMPLE\n",
    "flipped_random_million = np.flip(random_million)\n",
    "flipped_random_million"
   ]
  },
  {
   "cell_type": "markdown",
   "metadata": {},
   "source": [
    "We can sum all of its elements!  \n",
    "Quiz: what do you expect the value of the sum to be?"
   ]
  },
  {
   "cell_type": "code",
   "execution_count": 19,
   "metadata": {},
   "outputs": [
    {
     "data": {
      "text/plain": [
       "499475.8941026268"
      ]
     },
     "execution_count": 19,
     "metadata": {},
     "output_type": "execute_result"
    }
   ],
   "source": [
    "# EXAMPLE\n",
    "sum = np.sum(random_million)\n",
    "sum"
   ]
  },
  {
   "cell_type": "markdown",
   "metadata": {},
   "source": [
    "And we can reshape it in rectangular form, as long as it's compatible!"
   ]
  },
  {
   "cell_type": "code",
   "execution_count": 22,
   "metadata": {},
   "outputs": [
    {
     "data": {
      "text/plain": [
       "array([[0.24389453, 0.96840324, 0.87448317, ..., 0.17620815, 0.06057221,\n",
       "        0.11484352],\n",
       "       [0.54650752, 0.48735061, 0.84374443, ..., 0.89787365, 0.51068277,\n",
       "        0.21175956],\n",
       "       [0.81978099, 0.61638882, 0.69834751, ..., 0.09464313, 0.96100724,\n",
       "        0.04842486],\n",
       "       ...,\n",
       "       [0.49605318, 0.76000289, 0.96260665, ..., 0.82371998, 0.1311792 ,\n",
       "        0.89095879],\n",
       "       [0.98856962, 0.84397039, 0.52842963, ..., 0.30756088, 0.55559074,\n",
       "        0.11066279],\n",
       "       [0.39210528, 0.44994419, 0.64270334, ..., 0.97256482, 0.25756415,\n",
       "        0.76598709]])"
      ]
     },
     "execution_count": 22,
     "metadata": {},
     "output_type": "execute_result"
    }
   ],
   "source": [
    "# EXAMPLE\n",
    "reshaped = np.reshape(random_million, (1000, 1000))\n",
    "reshaped"
   ]
  },
  {
   "cell_type": "code",
   "execution_count": 26,
   "metadata": {},
   "outputs": [
    {
     "data": {
      "text/plain": [
       "array([ 7.3890561 , 20.08553692, 54.59815003])"
      ]
     },
     "execution_count": 26,
     "metadata": {},
     "output_type": "execute_result"
    }
   ],
   "source": [
    "# EXERCISE\n",
    "# Calculate the exponential of the array x\n",
    "# Hint: look it up online!\n",
    "\n",
    "x = np.array ([2,3,4])\n",
    "\n",
    "y = np.exp(x)\n",
    "y"
   ]
  },
  {
   "cell_type": "code",
   "execution_count": 29,
   "metadata": {},
   "outputs": [
    {
     "data": {
      "text/plain": [
       "array([2., 3., 4.])"
      ]
     },
     "execution_count": 29,
     "metadata": {},
     "output_type": "execute_result"
    }
   ],
   "source": [
    "# EXAMPLE\n",
    "# How can we go back from y to x?\n",
    "# Logarithms are the inverse of exponents, so we should use them!\n",
    "# See how we obtain x back from y!\n",
    "z = np.log(y)\n",
    "z"
   ]
  },
  {
   "cell_type": "code",
   "execution_count": 30,
   "metadata": {},
   "outputs": [
    {
     "data": {
      "text/plain": [
       "Ellipsis"
      ]
     },
     "execution_count": 30,
     "metadata": {},
     "output_type": "execute_result"
    }
   ],
   "source": [
    "# EXERCISE\n",
    "\n",
    "#Modify the above code to calculate the square root of x.\n",
    "x = np.array ([2,3,4])\n",
    "..."
   ]
  },
  {
   "cell_type": "markdown",
   "metadata": {},
   "source": [
    "## Indexing & Slicing NumPy Arrays  <a id='section4'></a>\n"
   ]
  },
  {
   "cell_type": "markdown",
   "metadata": {},
   "source": [
    "Just like we did with Python lists, if we ever need to retreive a value at a particular index in a NumPy array, we can use `[start:stop:step]` to get it."
   ]
  },
  {
   "cell_type": "code",
   "execution_count": 37,
   "metadata": {},
   "outputs": [
    {
     "name": "stdout",
     "output_type": "stream",
     "text": [
      "[0 1 2 3 4 5]\n",
      "Value at index 0 is: 0\n"
     ]
    }
   ],
   "source": [
    "# EXAMPLE\n",
    "\n",
    "print(array_from_list)\n",
    "print(\"Value at index 0 is:\", array_from_list[0])"
   ]
  },
  {
   "cell_type": "markdown",
   "metadata": {},
   "source": [
    "Try to retrieve a value at index **3** of our array."
   ]
  },
  {
   "cell_type": "code",
   "execution_count": null,
   "metadata": {},
   "outputs": [],
   "source": [
    "# EXERCISE\n",
    "\n",
    "print(\"Value at index 3 is:\", ...) "
   ]
  },
  {
   "cell_type": "markdown",
   "metadata": {},
   "source": [
    "We can also get the last entry of the array using the index -1"
   ]
  },
  {
   "cell_type": "code",
   "execution_count": 40,
   "metadata": {},
   "outputs": [
    {
     "data": {
      "text/plain": [
       "5"
      ]
     },
     "execution_count": 40,
     "metadata": {},
     "output_type": "execute_result"
    }
   ],
   "source": [
    "# EXAMPLE\n",
    "\n",
    "array_from_list[-1]"
   ]
  },
  {
   "cell_type": "markdown",
   "metadata": {},
   "source": [
    "We can also get a \"slice\" of numbers just like we would from a list. Remember that we slice up to the stopindex - 1!"
   ]
  },
  {
   "cell_type": "code",
   "execution_count": null,
   "metadata": {},
   "outputs": [],
   "source": [
    "# EXAMPLE\n",
    "\n",
    "array_from_list[2:5]"
   ]
  },
  {
   "cell_type": "markdown",
   "metadata": {},
   "source": [
    "Now how would you return all the values starting with index 2 (skipping values at indices 0 and 1)?"
   ]
  },
  {
   "cell_type": "code",
   "execution_count": null,
   "metadata": {},
   "outputs": [],
   "source": [
    "# EXERCISE\n",
    "\n",
    "..."
   ]
  },
  {
   "cell_type": "markdown",
   "metadata": {},
   "source": [
    "You can think of arrays as tables. If your array has more than one column per row, we just use a comma between the index of the first dimension (row) and the index of the second dimension (column). The indexing and slicing works exactly the same as before, but we can do it separately for rows and columns."
   ]
  },
  {
   "cell_type": "code",
   "execution_count": null,
   "metadata": {},
   "outputs": [],
   "source": [
    "# EXAMPLE\n",
    "\n",
    "three_by_five = np.random.rand(5, 3)\n",
    "three_by_five"
   ]
  },
  {
   "cell_type": "code",
   "execution_count": null,
   "metadata": {},
   "outputs": [],
   "source": [
    "# EXAMPLE\n",
    "\n",
    "three_by_five[0, 0]"
   ]
  },
  {
   "cell_type": "markdown",
   "metadata": {},
   "source": [
    "Now let's try to retrieve the value from the bottom right. \n",
    "\n",
    "**Hint:** Remember, first we input rows, then columns. Also, don't forget that Python starts counting from *zero*."
   ]
  },
  {
   "cell_type": "code",
   "execution_count": null,
   "metadata": {},
   "outputs": [],
   "source": [
    "# EXERCISE\n",
    "\n",
    "..."
   ]
  },
  {
   "cell_type": "markdown",
   "metadata": {},
   "source": [
    "Just like with regular arrays and lists, we can slice arrays that have multiple columns. The same rules apply: first we input the desired rows, then the desired columns. In the cell below, we are asking for our array to output values on row 0, columns 1 through 3 (our array has only 2 columns, but it won't error). "
   ]
  },
  {
   "cell_type": "code",
   "execution_count": null,
   "metadata": {},
   "outputs": [],
   "source": [
    "# EXAMPLE\n",
    "\n",
    "three_by_five[0, 1:4]"
   ]
  },
  {
   "cell_type": "code",
   "execution_count": null,
   "metadata": {},
   "outputs": [],
   "source": [
    "# EXAMPLE - output rows 1 through 4, column 0\n",
    "\n",
    "three_by_five[1:, :1]"
   ]
  },
  {
   "cell_type": "markdown",
   "metadata": {},
   "source": [
    "Now how would we output only the last values of all rows?"
   ]
  },
  {
   "cell_type": "code",
   "execution_count": null,
   "metadata": {},
   "outputs": [],
   "source": [
    "# EXERCISE\n",
    "...\n"
   ]
  },
  {
   "cell_type": "markdown",
   "metadata": {},
   "source": [
    "To check the shape of your array you can also use `np.shape`"
   ]
  },
  {
   "cell_type": "markdown",
   "metadata": {},
   "source": [
    "## NumPy Arrays Applications <a id='section5'></a>"
   ]
  },
  {
   "cell_type": "markdown",
   "metadata": {},
   "source": [
    "### Finding the Average Hours of Daylight <a id='subsection1'></a>"
   ]
  },
  {
   "cell_type": "markdown",
   "metadata": {},
   "source": [
    "We have already loaded some data for you about the sunrise and sunset times Washington DC.\n",
    "\n",
    "The following arrays give the average time of sunrise for each month, and the average time of sunset for each month.\n",
    "\n",
    "The first row of each array gives the hour, and the second row, gives the minutes. "
   ]
  },
  {
   "cell_type": "code",
   "execution_count": null,
   "metadata": {},
   "outputs": [],
   "source": [
    "print(dc_sunrise)\n",
    "print(dc_sunset)"
   ]
  },
  {
   "cell_type": "markdown",
   "metadata": {},
   "source": [
    "So you can see that in January in DC, the average times for a sunrise was 7:23. Let's say that we want to figure out the average number of hours of sunlight in DC for each month. How would we do that? "
   ]
  },
  {
   "cell_type": "code",
   "execution_count": null,
   "metadata": {},
   "outputs": [],
   "source": [
    "# Example\n",
    "\n",
    "# We have both hours and minutes - let's write both rows in terms of hours.\n",
    "\n",
    "dc_sunrise [1,:] = dc_sunrise[1,:] / 60\n",
    "dc_sunset [1,:] = dc_sunset[1,:] / 60\n",
    "\n",
    "print(dc_sunrise)\n",
    "print(dc_sunset)"
   ]
  },
  {
   "cell_type": "markdown",
   "metadata": {},
   "source": [
    "Wait, what just happened here, why did all the minutes go to zeros?\n",
    "It's because we'e been using arrays of integers so it did integer division and rounded all the values down. Fortunately we can just reload the data and try that again. This time we will load the values as floats. We can check that using the dtype function:"
   ]
  },
  {
   "cell_type": "code",
   "execution_count": null,
   "metadata": {},
   "outputs": [],
   "source": [
    "print(dc_sunrise.dtype)\n",
    "print(dc_sunset.dtype)"
   ]
  },
  {
   "cell_type": "code",
   "execution_count": null,
   "metadata": {},
   "outputs": [],
   "source": [
    "#Loading the values as floats\n",
    "\n",
    "dc_sunrise = np.float32(dc_sunrise_orig)\n",
    "dc_sunset = np.float32(dc_sunset_orig)\n",
    "\n",
    "print(dc_sunrise.dtype)\n",
    "print(dc_sunset.dtype)"
   ]
  },
  {
   "cell_type": "markdown",
   "metadata": {},
   "source": [
    "Now that we have arrays of floats we can do the division without a problem:"
   ]
  },
  {
   "cell_type": "code",
   "execution_count": null,
   "metadata": {},
   "outputs": [],
   "source": [
    "dc_sunrise[1,:] = dc_sunrise[1,:] / 60\n",
    "dc_sunset[1,:] = dc_sunset[1,:] / 60.\n",
    "\n",
    "print(dc_sunrise)\n",
    "print(dc_sunset)"
   ]
  },
  {
   "cell_type": "code",
   "execution_count": null,
   "metadata": {},
   "outputs": [],
   "source": [
    "# Example\n",
    "\n",
    "# let's make the sunset hours in military time. \n",
    "\n",
    "dc_sunset[0,:]+=12\n",
    "\n",
    "print(dc_sunset)"
   ]
  },
  {
   "cell_type": "code",
   "execution_count": null,
   "metadata": {},
   "outputs": [],
   "source": [
    "# Example\n",
    "# Now we can calculate the total number of hours after midnight it is \n",
    "# for sunrise and the sunset using the sum function.  \n",
    "\n",
    "\n",
    "dc_sunrise_hrs = np.sum(dc_sunrise,0)\n",
    "dc_sunset_hrs = np.sum(dc_sunset,0)\n",
    "\n",
    "print(dc_sunrise_hrs)\n",
    "print(dc_sunset_hrs)\n"
   ]
  },
  {
   "cell_type": "markdown",
   "metadata": {},
   "source": [
    "The `np.sum` command has multiple possible inputs. Here we inputed:\n",
    "* The array we wanted to sum\n",
    "* The direction we wanted to sum across (in this case, we wanted to add the rows so we put 0)"
   ]
  },
  {
   "cell_type": "code",
   "execution_count": null,
   "metadata": {},
   "outputs": [],
   "source": [
    "# Example\n",
    "# Find the number of minutes of daylight\n",
    "\n",
    "dc_daylight = dc_sunset_hrs - dc_sunrise_hrs \n",
    "dc_daylight"
   ]
  },
  {
   "cell_type": "code",
   "execution_count": null,
   "metadata": {},
   "outputs": [],
   "source": [
    "# Example \n",
    "#Let's find the average (mean) number of hours of daylight per month for DC\n",
    "\n",
    "dc_mean_daylight = np.mean(dc_daylight)\n",
    "print('mean: ', dc_mean_daylight, 'hours')\n",
    "\n",
    "#Let's also find the range of hours of daylight for DC\n",
    "dc_range = np.max(dc_daylight) - np.min(dc_daylight)\n",
    "print('range: ', dc_range, 'hours')"
   ]
  },
  {
   "cell_type": "markdown",
   "metadata": {},
   "source": [
    "We also have sunrise and sunset data for 5 other cities:   Berlin, Germany; Canberra, Australia; Beijing, China; Helsinki, Finland; and Manilla, Philippines. The other arrays are named `berlin_sunrise, berlin_sunset, canberra_sunrise, canberra_sunset, beijing_sunrise, beijing_sunset, helsinki_sunrise, helsinki_sunset, manila_sunrise, manila_sunset`\n",
    "\n",
    "(Note that all arrays already contain float values so you do not need to convert the types)\n",
    "\n",
    "Have each person at your table pick a different city and use the cells below to figure out the average number of hours of daylight in each city so you can compare. "
   ]
  },
  {
   "cell_type": "code",
   "execution_count": null,
   "metadata": {},
   "outputs": [],
   "source": []
  },
  {
   "cell_type": "code",
   "execution_count": null,
   "metadata": {},
   "outputs": [],
   "source": []
  },
  {
   "cell_type": "code",
   "execution_count": null,
   "metadata": {},
   "outputs": [],
   "source": []
  },
  {
   "cell_type": "code",
   "execution_count": null,
   "metadata": {},
   "outputs": [],
   "source": []
  },
  {
   "cell_type": "code",
   "execution_count": null,
   "metadata": {},
   "outputs": [],
   "source": []
  },
  {
   "cell_type": "markdown",
   "metadata": {},
   "source": [
    "Which city had the most hours of daylight? \n",
    "type your answer here:\n",
    "...\n",
    "\n",
    "Which city has the biggest range in hours of daylight? \n",
    "type your answer here:\n",
    "...\n",
    "\n",
    "What conclusions can you draw from this?\n",
    "..."
   ]
  },
  {
   "cell_type": "markdown",
   "metadata": {},
   "source": [
    "### Finding the Elevation of a Hiking Path<a id='subsection2'></a>"
   ]
  },
  {
   "cell_type": "markdown",
   "metadata": {},
   "source": [
    "You and your friends have decided to go on a hike. We have already imported the array called `contour`, which contains the information for a contour map giving the elevations of the area, and a list called `hiking_path`, which contains the pixels representing the path you and your friends will take. See the plot below:"
   ]
  },
  {
   "cell_type": "code",
   "execution_count": 2,
   "metadata": {},
   "outputs": [
    {
     "data": {
      "image/png": "[encoded data removed]",
      "text/plain": [
       "<Figure size 1920x1440 with 3 Axes>"
      ]
     },
     "metadata": {},
     "output_type": "display_data"
    }
   ],
   "source": [
    "# You haven't learned how to plot yet, so we did it for you. \n",
    "\n",
    "plot_path = np.zeros(contour.shape)\n",
    "for ii in range(len(hiking_path)):\n",
    "    plot_path[hiking_path[ii]] = 1\n",
    "\n",
    "fig, ax = plt.subplots(1,2, dpi=300)\n",
    "im1 = ax[0].imshow(contour,cmap=plt.cm.viridis, alpha=.9, vmin = 1400, interpolation='bilinear')\n",
    "ax[0].set_title('contour')\n",
    "ax[0].axis('off')\n",
    "fig.colorbar(im1, orientation='vertical', fraction=0.03)\n",
    "\n",
    "im2 = ax[1].imshow(plot_path, cmap=plt.cm.gray, interpolation='nearest')\n",
    "ax[1].set_title('hiking path')\n",
    "ax[1].axis('off')\n",
    "\n",
    "plt.show()\n"
   ]
  },
  {
   "cell_type": "markdown",
   "metadata": {},
   "source": [
    "Looking at the plot, what color represents high elevation areas? How do you know?"
   ]
  },
  {
   "cell_type": "markdown",
   "metadata": {},
   "source": [
    "We can use `contour` and `hiking_path` to find the elevation for each step of the path. For example, if we wanted to find the elevation (in feet) of the first part, we would use the code in the next cell. "
   ]
  },
  {
   "cell_type": "code",
   "execution_count": null,
   "metadata": {},
   "outputs": [],
   "source": [
    "# EXAMPLE\n",
    "contour[hiking_path[0]]"
   ]
  },
  {
   "cell_type": "code",
   "execution_count": null,
   "metadata": {},
   "outputs": [],
   "source": [
    "# EXERCISE\n",
    "# Use what you know about numpy arrays and loops to figure out \n",
    "# the maximum change in altitude on the hike ( The maximum minus the minimum elevations.)\n",
    "\n",
    "# Create an array of 0's for now that has the same number of rows as the list hiking_path and 1 column\n",
    "# Hint: Which built-in Python function gives you the length of a list?\n",
    "elevations = np.zeros((...,...))\n",
    "\n",
    "# You have to loop through each item in the hiking_path list.\n",
    "# Store the elevation of each point on the hiking_path in the elevations array\n",
    "for x in ... : \n",
    "    elevations[x]= ...\n",
    "    \n",
    "max_change = ...\n",
    "\n",
    "print(max_change)"
   ]
  },
  {
   "cell_type": "markdown",
   "metadata": {},
   "source": [
    "## Exit Ticket <a id='section6'></a>"
   ]
  },
  {
   "cell_type": "markdown",
   "metadata": {},
   "source": [
    "Use the following link to access the Exit Ticket for this notebook:\n",
    "https://forms.gle/97eAJGtFaKehE7h59"
   ]
  },
  {
   "cell_type": "markdown",
   "metadata": {},
   "source": [
    "---\n",
    "Notebook developed by: Kseniya Usovich, Baishakhi Bose, Alisa Bettale, Laurel Hales"
   ]
  }
 ],
 "metadata": {
  "anaconda-cloud": {},
  "kernelspec": {
   "display_name": "Python 3 (ipykernel)",
   "language": "python",
   "name": "python3"
  },
  "language_info": {
   "codemirror_mode": {
    "name": "ipython",
    "version": 3
   },
   "file_extension": ".py",
   "mimetype": "text/x-python",
   "name": "python",
   "nbconvert_exporter": "python",
   "pygments_lexer": "ipython3",
   "version": "3.10.12"
  }
 },
 "nbformat": 4,
 "nbformat_minor": 4
}
