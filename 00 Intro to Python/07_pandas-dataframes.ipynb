{
 "cells": [
  {
   "cell_type": "markdown",
   "metadata": {},
   "source": [
    "# Pandas DataFrames\n",
    "\n",
    "\n",
    "\n",
    "---\n",
    "\n",
    "### Table of Contents\n",
    "\n",
    "1 - [Manipulating Columns ](#section1)<br>\n",
    "\n",
    "&nbsp;&nbsp;&nbsp;&nbsp;&nbsp;&nbsp; 1.1 - [Indexing &  Slicing in Pandas](#subsection1)<br>\n",
    "\n",
    "&nbsp;&nbsp;&nbsp;&nbsp;&nbsp;&nbsp; 1.2 - [Uniqueness](#subsection2)<br>\n",
    "\n",
    "&nbsp;&nbsp;&nbsp;&nbsp;&nbsp;&nbsp; 1.3 - [Frequencies](#subsection3)<br>\n",
    "\n",
    "&nbsp;&nbsp;&nbsp;&nbsp;&nbsp;&nbsp; 1.4 - [Sorting](#subsection4)<br>\n",
    "\n",
    "&nbsp;&nbsp;&nbsp;&nbsp;&nbsp;&nbsp; 1.5 - [Min, Max, Range](#subsection5)<br>\n",
    "\n",
    "&nbsp;&nbsp;&nbsp;&nbsp;&nbsp;&nbsp; 1.6 - [Missing Values](#subsection6)<br>\n",
    "\n",
    "\n",
    "2 - [Booleans & Boolean Indexing](#section2)<br>\n",
    "\n",
    "\n",
    "---"
   ]
  },
  {
   "cell_type": "code",
   "execution_count": 17,
   "metadata": {},
   "outputs": [],
   "source": [
    "import numpy as np\n",
    "import pandas as pd"
   ]
  },
  {
   "cell_type": "markdown",
   "metadata": {},
   "source": [
    "Let's begin by reading a new data set from the file `internet_world_data.csv`. We will use `pd.read_csv` just as we did before. We will use the keyword `index_col` to set the column 'Country' as our index. In addition, we will drop the column 'S.NO' and make sure the columns 'Internet users' and 'Population' will be in float data types so they are easier to work with in this notebook.\n",
    "\n",
    "You can learn more about the data [here](https://www.kaggle.com/datasets/ramjasmaurya/1-gb-internet-price)."
   ]
  },
  {
   "cell_type": "code",
   "execution_count": 18,
   "metadata": {},
   "outputs": [
    {
     "data": {
      "text/html": [
       "<div>\n",
       "<style scoped>\n",
       "    .dataframe tbody tr th:only-of-type {\n",
       "        vertical-align: middle;\n",
       "    }\n",
       "\n",
       "    .dataframe tbody tr th {\n",
       "        vertical-align: top;\n",
       "    }\n",
       "\n",
       "    .dataframe thead th {\n",
       "        text-align: right;\n",
       "    }\n",
       "</style>\n",
       "<table border=\"1\" class=\"dataframe\">\n",
       "  <thead>\n",
       "    <tr style=\"text-align: right;\">\n",
       "      <th></th>\n",
       "      <th>S.NO</th>\n",
       "      <th>Country code</th>\n",
       "      <th>Country</th>\n",
       "      <th>Continental region</th>\n",
       "      <th>NO. OF Internet Plans</th>\n",
       "      <th>Average price of 1GB (USD)</th>\n",
       "      <th>Cheapest 1GB for 30 days (USD)</th>\n",
       "      <th>Most expensive 1GB (USD)</th>\n",
       "      <th>Average price of 1GB (USD  at the start of 2021)</th>\n",
       "      <th>Average price of 1GB (USD – at start of 2020)</th>\n",
       "      <th>Internet users</th>\n",
       "      <th>Population</th>\n",
       "      <th>Avg \\n(Mbit/s)Ookla</th>\n",
       "    </tr>\n",
       "  </thead>\n",
       "  <tbody>\n",
       "    <tr>\n",
       "      <th>0</th>\n",
       "      <td>0</td>\n",
       "      <td>IL</td>\n",
       "      <td>Israel</td>\n",
       "      <td>NEAR EAST</td>\n",
       "      <td>27.0</td>\n",
       "      <td>0.05</td>\n",
       "      <td>0.02</td>\n",
       "      <td>20.95</td>\n",
       "      <td>0.11</td>\n",
       "      <td>0.9</td>\n",
       "      <td>6,788,737</td>\n",
       "      <td>8,381,516</td>\n",
       "      <td>28.01</td>\n",
       "    </tr>\n",
       "    <tr>\n",
       "      <th>1</th>\n",
       "      <td>1</td>\n",
       "      <td>KG</td>\n",
       "      <td>Kyrgyzstan</td>\n",
       "      <td>CIS (FORMER USSR)</td>\n",
       "      <td>20.0</td>\n",
       "      <td>0.15</td>\n",
       "      <td>0.10</td>\n",
       "      <td>7.08</td>\n",
       "      <td>0.21</td>\n",
       "      <td>0.27</td>\n",
       "      <td>2,309,235</td>\n",
       "      <td>6,304,030</td>\n",
       "      <td>16.30</td>\n",
       "    </tr>\n",
       "    <tr>\n",
       "      <th>2</th>\n",
       "      <td>2</td>\n",
       "      <td>FJ</td>\n",
       "      <td>Fiji</td>\n",
       "      <td>OCEANIA</td>\n",
       "      <td>18.0</td>\n",
       "      <td>0.19</td>\n",
       "      <td>0.05</td>\n",
       "      <td>0.85</td>\n",
       "      <td>0.59</td>\n",
       "      <td>3.57</td>\n",
       "      <td>452,479</td>\n",
       "      <td>883,483</td>\n",
       "      <td>25.99</td>\n",
       "    </tr>\n",
       "    <tr>\n",
       "      <th>3</th>\n",
       "      <td>3</td>\n",
       "      <td>IT</td>\n",
       "      <td>Italy</td>\n",
       "      <td>WESTERN EUROPE</td>\n",
       "      <td>29.0</td>\n",
       "      <td>0.27</td>\n",
       "      <td>0.09</td>\n",
       "      <td>3.54</td>\n",
       "      <td>0.43</td>\n",
       "      <td>1.73</td>\n",
       "      <td>50,540,000</td>\n",
       "      <td>60,627,291</td>\n",
       "      <td>37.15</td>\n",
       "    </tr>\n",
       "    <tr>\n",
       "      <th>4</th>\n",
       "      <td>4</td>\n",
       "      <td>SD</td>\n",
       "      <td>Sudan</td>\n",
       "      <td>SUB-SAHARAN AFRICA</td>\n",
       "      <td>33.0</td>\n",
       "      <td>0.27</td>\n",
       "      <td>0.03</td>\n",
       "      <td>0.92</td>\n",
       "      <td>0.63</td>\n",
       "      <td>0.68</td>\n",
       "      <td>12,512,639</td>\n",
       "      <td>41,801,533</td>\n",
       "      <td>9.50</td>\n",
       "    </tr>\n",
       "  </tbody>\n",
       "</table>\n",
       "</div>"
      ],
      "text/plain": [
       "   S.NO Country code     Country  Continental region  NO. OF Internet Plans  \\\n",
       "0     0           IL      Israel           NEAR EAST                   27.0   \n",
       "1     1           KG  Kyrgyzstan   CIS (FORMER USSR)                   20.0   \n",
       "2     2           FJ        Fiji             OCEANIA                   18.0   \n",
       "3     3           IT       Italy      WESTERN EUROPE                   29.0   \n",
       "4     4           SD       Sudan  SUB-SAHARAN AFRICA                   33.0   \n",
       "\n",
       "  Average price of 1GB (USD)  Cheapest 1GB for 30 days (USD)  \\\n",
       "0                       0.05                            0.02   \n",
       "1                       0.15                            0.10   \n",
       "2                       0.19                            0.05   \n",
       "3                       0.27                            0.09   \n",
       "4                       0.27                            0.03   \n",
       "\n",
       "   Most expensive 1GB (USD) Average price of 1GB (USD  at the start of 2021)  \\\n",
       "0                     20.95                                             0.11   \n",
       "1                      7.08                                             0.21   \n",
       "2                      0.85                                             0.59   \n",
       "3                      3.54                                             0.43   \n",
       "4                      0.92                                             0.63   \n",
       "\n",
       "  Average price of 1GB (USD – at start of 2020) Internet users  Population  \\\n",
       "0                                           0.9      6,788,737   8,381,516   \n",
       "1                                          0.27      2,309,235   6,304,030   \n",
       "2                                          3.57        452,479     883,483   \n",
       "3                                          1.73     50,540,000  60,627,291   \n",
       "4                                          0.68     12,512,639  41,801,533   \n",
       "\n",
       "   Avg \\n(Mbit/s)Ookla  \n",
       "0                28.01  \n",
       "1                16.30  \n",
       "2                25.99  \n",
       "3                37.15  \n",
       "4                 9.50  "
      ]
     },
     "execution_count": 18,
     "metadata": {},
     "output_type": "execute_result"
    }
   ],
   "source": [
    "internet = pd.read_csv('data/internet_world_data.csv')\n",
    "internet.head()"
   ]
  },
  {
   "cell_type": "code",
   "execution_count": 19,
   "metadata": {},
   "outputs": [
    {
     "data": {
      "text/html": [
       "<div>\n",
       "<style scoped>\n",
       "    .dataframe tbody tr th:only-of-type {\n",
       "        vertical-align: middle;\n",
       "    }\n",
       "\n",
       "    .dataframe tbody tr th {\n",
       "        vertical-align: top;\n",
       "    }\n",
       "\n",
       "    .dataframe thead th {\n",
       "        text-align: right;\n",
       "    }\n",
       "</style>\n",
       "<table border=\"1\" class=\"dataframe\">\n",
       "  <thead>\n",
       "    <tr style=\"text-align: right;\">\n",
       "      <th></th>\n",
       "      <th>Country code</th>\n",
       "      <th>Continental region</th>\n",
       "      <th>NO. OF Internet Plans</th>\n",
       "      <th>Average price of 1GB (USD)</th>\n",
       "      <th>Cheapest 1GB for 30 days (USD)</th>\n",
       "      <th>Most expensive 1GB (USD)</th>\n",
       "      <th>Average price of 1GB (USD  at the start of 2021)</th>\n",
       "      <th>Average price of 1GB (USD – at start of 2020)</th>\n",
       "      <th>Internet users</th>\n",
       "      <th>Population</th>\n",
       "      <th>Avg \\n(Mbit/s)Ookla</th>\n",
       "    </tr>\n",
       "    <tr>\n",
       "      <th>Country</th>\n",
       "      <th></th>\n",
       "      <th></th>\n",
       "      <th></th>\n",
       "      <th></th>\n",
       "      <th></th>\n",
       "      <th></th>\n",
       "      <th></th>\n",
       "      <th></th>\n",
       "      <th></th>\n",
       "      <th></th>\n",
       "      <th></th>\n",
       "    </tr>\n",
       "  </thead>\n",
       "  <tbody>\n",
       "    <tr>\n",
       "      <th>Israel</th>\n",
       "      <td>IL</td>\n",
       "      <td>NEAR EAST</td>\n",
       "      <td>27.0</td>\n",
       "      <td>0.05</td>\n",
       "      <td>0.02</td>\n",
       "      <td>20.95</td>\n",
       "      <td>0.11</td>\n",
       "      <td>0.9</td>\n",
       "      <td>6788737.0</td>\n",
       "      <td>8381516.0</td>\n",
       "      <td>28.01</td>\n",
       "    </tr>\n",
       "    <tr>\n",
       "      <th>Kyrgyzstan</th>\n",
       "      <td>KG</td>\n",
       "      <td>CIS (FORMER USSR)</td>\n",
       "      <td>20.0</td>\n",
       "      <td>0.15</td>\n",
       "      <td>0.10</td>\n",
       "      <td>7.08</td>\n",
       "      <td>0.21</td>\n",
       "      <td>0.27</td>\n",
       "      <td>2309235.0</td>\n",
       "      <td>6304030.0</td>\n",
       "      <td>16.30</td>\n",
       "    </tr>\n",
       "    <tr>\n",
       "      <th>Fiji</th>\n",
       "      <td>FJ</td>\n",
       "      <td>OCEANIA</td>\n",
       "      <td>18.0</td>\n",
       "      <td>0.19</td>\n",
       "      <td>0.05</td>\n",
       "      <td>0.85</td>\n",
       "      <td>0.59</td>\n",
       "      <td>3.57</td>\n",
       "      <td>452479.0</td>\n",
       "      <td>883483.0</td>\n",
       "      <td>25.99</td>\n",
       "    </tr>\n",
       "    <tr>\n",
       "      <th>Italy</th>\n",
       "      <td>IT</td>\n",
       "      <td>WESTERN EUROPE</td>\n",
       "      <td>29.0</td>\n",
       "      <td>0.27</td>\n",
       "      <td>0.09</td>\n",
       "      <td>3.54</td>\n",
       "      <td>0.43</td>\n",
       "      <td>1.73</td>\n",
       "      <td>50540000.0</td>\n",
       "      <td>60627291.0</td>\n",
       "      <td>37.15</td>\n",
       "    </tr>\n",
       "    <tr>\n",
       "      <th>Sudan</th>\n",
       "      <td>SD</td>\n",
       "      <td>SUB-SAHARAN AFRICA</td>\n",
       "      <td>33.0</td>\n",
       "      <td>0.27</td>\n",
       "      <td>0.03</td>\n",
       "      <td>0.92</td>\n",
       "      <td>0.63</td>\n",
       "      <td>0.68</td>\n",
       "      <td>12512639.0</td>\n",
       "      <td>41801533.0</td>\n",
       "      <td>9.50</td>\n",
       "    </tr>\n",
       "  </tbody>\n",
       "</table>\n",
       "</div>"
      ],
      "text/plain": [
       "           Country code  Continental region  NO. OF Internet Plans  \\\n",
       "Country                                                              \n",
       "Israel               IL           NEAR EAST                   27.0   \n",
       "Kyrgyzstan           KG   CIS (FORMER USSR)                   20.0   \n",
       "Fiji                 FJ             OCEANIA                   18.0   \n",
       "Italy                IT      WESTERN EUROPE                   29.0   \n",
       "Sudan                SD  SUB-SAHARAN AFRICA                   33.0   \n",
       "\n",
       "           Average price of 1GB (USD)  Cheapest 1GB for 30 days (USD)  \\\n",
       "Country                                                                 \n",
       "Israel                           0.05                            0.02   \n",
       "Kyrgyzstan                       0.15                            0.10   \n",
       "Fiji                             0.19                            0.05   \n",
       "Italy                            0.27                            0.09   \n",
       "Sudan                            0.27                            0.03   \n",
       "\n",
       "            Most expensive 1GB (USD)  \\\n",
       "Country                                \n",
       "Israel                         20.95   \n",
       "Kyrgyzstan                      7.08   \n",
       "Fiji                            0.85   \n",
       "Italy                           3.54   \n",
       "Sudan                           0.92   \n",
       "\n",
       "           Average price of 1GB (USD  at the start of 2021)  \\\n",
       "Country                                                       \n",
       "Israel                                                 0.11   \n",
       "Kyrgyzstan                                             0.21   \n",
       "Fiji                                                   0.59   \n",
       "Italy                                                  0.43   \n",
       "Sudan                                                  0.63   \n",
       "\n",
       "           Average price of 1GB (USD – at start of 2020)  Internet users  \\\n",
       "Country                                                                    \n",
       "Israel                                               0.9       6788737.0   \n",
       "Kyrgyzstan                                          0.27       2309235.0   \n",
       "Fiji                                                3.57        452479.0   \n",
       "Italy                                               1.73      50540000.0   \n",
       "Sudan                                               0.68      12512639.0   \n",
       "\n",
       "            Population  Avg \\n(Mbit/s)Ookla  \n",
       "Country                                      \n",
       "Israel       8381516.0                28.01  \n",
       "Kyrgyzstan   6304030.0                16.30  \n",
       "Fiji          883483.0                25.99  \n",
       "Italy       60627291.0                37.15  \n",
       "Sudan       41801533.0                 9.50  "
      ]
     },
     "execution_count": 19,
     "metadata": {},
     "output_type": "execute_result"
    }
   ],
   "source": [
    "internet = pd.read_csv('data/internet_world_data.csv', index_col='Country')\n",
    "\n",
    "internet = internet.drop('S.NO', axis=1)\n",
    "internet['Internet users'] = internet['Internet users'].str.replace(',','')\n",
    "internet['Internet users'] = internet['Internet users'].astype(float)\n",
    "internet['Population'] = internet['Population'].str.replace(',','')\n",
    "internet['Population'] = internet['Population'].astype(float)\n",
    "internet.head()"
   ]
  },
  {
   "cell_type": "markdown",
   "metadata": {},
   "source": [
    "In the five cells below, use some functions on the dataframe `internet` to do some **Exploratory Data Analysis** to explore the data!\n",
    "\n",
    "_You can always look back in Notebook 06 for ideas._"
   ]
  },
  {
   "cell_type": "code",
   "execution_count": null,
   "metadata": {},
   "outputs": [],
   "source": [
    "#Exploratory Data Analysis 1\n",
    "\n"
   ]
  },
  {
   "cell_type": "code",
   "execution_count": null,
   "metadata": {},
   "outputs": [],
   "source": [
    "#Exploratory Data Analysis 2\n",
    "\n"
   ]
  },
  {
   "cell_type": "code",
   "execution_count": null,
   "metadata": {},
   "outputs": [],
   "source": [
    "#Exploratory Data Analysis 3\n",
    "\n"
   ]
  },
  {
   "cell_type": "code",
   "execution_count": null,
   "metadata": {},
   "outputs": [],
   "source": [
    "#Exploratory Data Analysis 4\n",
    "\n"
   ]
  },
  {
   "cell_type": "code",
   "execution_count": null,
   "metadata": {},
   "outputs": [],
   "source": [
    "#Exploratory Data Analysis 5\n",
    "\n"
   ]
  },
  {
   "cell_type": "markdown",
   "metadata": {},
   "source": [
    "## 1. Manipulating Columns\n",
    " <a id='Section1'></a>"
   ]
  },
  {
   "cell_type": "markdown",
   "metadata": {},
   "source": [
    "### 1.1 Indexing &  Slicing  <a id='subsection1'></a>"
   ]
  },
  {
   "cell_type": "markdown",
   "metadata": {},
   "source": [
    "There are two main ways of indexing through DataFrames. We can still use our old friend, the square brackets `[:]`, or we can use it with the help of two functions: **`loc`** and **`iloc`**.\n",
    "\n",
    "**`loc`**: uses names or labels of rows and columns.  \n",
    "**`iloc`**: uses indices of rows and columns. You can think of *iloc* as *index-loc*.\n",
    "\n",
    "\n",
    "Let's start with loc:\n",
    "\n",
    "#### `.loc[rows-label(s), columns-label(s)]`\n",
    "`.loc` Helps us view and index our DataFrame, i.e. locating the data that we want. \n",
    "* It works with string labels. Notice that most of the times you will have specific column names, but our row names often come as a number. Hence the label of the rows will be a number.   \n",
    "* It can take \n",
    "    * one label __(`df.loc[row-label, 'col-label-1']`)__\n",
    "    * a list of labels __(`df.loc[[row-label 1, row-label-2, row-label-4],['col-label-1',  'col-label-2', 'col-label-4']]`)__\n",
    "    * or a _slice_ of labels __(`df.loc[row label-50 : row-label-100,'col-label-1': 'col-label-8']`)__\n",
    "\n",
    "\n",
    "**Remember!** `loc` is **inclusive**, `iloc` is **exclusive** for its stop index."
   ]
  },
  {
   "cell_type": "markdown",
   "metadata": {},
   "source": [
    "We can still iterate through our DataFrame (aka table) with square brackets, by identifying the column name."
   ]
  },
  {
   "cell_type": "code",
   "execution_count": 20,
   "metadata": {},
   "outputs": [
    {
     "data": {
      "text/plain": [
       "Country\n",
       "Israel                                                                  0.05\n",
       "Kyrgyzstan                                                              0.15\n",
       "Fiji                                                                    0.19\n",
       "Italy                                                                   0.27\n",
       "Sudan                                                                   0.27\n",
       "                                                      ...                   \n",
       "Vatican City (Holy See)                                         NO PROVIDERS\n",
       "Venezuela                                                     HYPERINFLATION\n",
       "Wallis and Futuna                                               NO PROVIDERS\n",
       "Democratic Republic of the Congo    Prices listed in non-convertible 'units'\n",
       "Zimbabwe                                           UNRELIABLE EXCHANGE RATES\n",
       "Name: Average price of 1GB (USD), Length: 242, dtype: object"
      ]
     },
     "execution_count": 20,
     "metadata": {},
     "output_type": "execute_result"
    }
   ],
   "source": [
    "# EXAMPLE\n",
    "\n",
    "internet[\"Average price of 1GB (USD)\"]"
   ]
  },
  {
   "cell_type": "markdown",
   "metadata": {},
   "source": [
    "So why would we want to opt out of this option and switch to `loc` and `iloc`? There are a few reasons for that, and the main being compute time. With the examples we use in this notebook, it will be impossible to notice the difference, but once we get to DataFrames with hundreds of thousands or millions of values, this will become important! \n",
    "\n",
    "On a climate care note, increased compute time leads to increased electricity and data server use, which contributes to climate change! And that's part of the reason we need to consider compute time. So let's dive into learning how to use our helpers `loc` and `iloc` to be more climate conscious."
   ]
  },
  {
   "cell_type": "markdown",
   "metadata": {},
   "source": [
    "#### Rows"
   ]
  },
  {
   "cell_type": "markdown",
   "metadata": {},
   "source": [
    "Let's use loc to see what are the values in the row on 'Japan' in our DataFrame."
   ]
  },
  {
   "cell_type": "code",
   "execution_count": 21,
   "metadata": {},
   "outputs": [
    {
     "data": {
      "text/plain": [
       "Country code                                                          JP\n",
       "Continental region                                  ASIA (EX. NEAR EAST)\n",
       "NO. OF Internet Plans                                               35.0\n",
       "Average price of 1GB (USD)                                          3.38\n",
       "Cheapest 1GB for 30 days (USD)                                      0.88\n",
       "Most expensive 1GB (USD)                                           45.53\n",
       "Average price of 1GB (USD  at the start of 2021)                    3.91\n",
       "Average price of 1GB (USD – at start of 2020)                       10.4\n",
       "Internet users                                               117400000.0\n",
       "Population                                                   127202192.0\n",
       "Avg \\n(Mbit/s)Ookla                                                44.05\n",
       "Name: Japan, dtype: object"
      ]
     },
     "execution_count": 21,
     "metadata": {},
     "output_type": "execute_result"
    }
   ],
   "source": [
    "# EXAMPLE\n",
    "\n",
    "internet.loc['Japan']"
   ]
  },
  {
   "cell_type": "code",
   "execution_count": null,
   "metadata": {},
   "outputs": [],
   "source": [
    "#Try using loc to find data on the United States\n",
    "internet.loc['...']"
   ]
  },
  {
   "cell_type": "code",
   "execution_count": null,
   "metadata": {},
   "outputs": [],
   "source": [
    "#Use loc to find data on the country of your choice!\n",
    "..."
   ]
  },
  {
   "cell_type": "markdown",
   "metadata": {},
   "source": [
    "`iloc` uses **indices** instead of labels. Try running the cell below:"
   ]
  },
  {
   "cell_type": "code",
   "execution_count": 22,
   "metadata": {},
   "outputs": [
    {
     "data": {
      "text/plain": [
       "Country code                                                    FR\n",
       "Continental region                                  WESTERN EUROPE\n",
       "NO. OF Internet Plans                                         45.0\n",
       "Average price of 1GB (USD)                                    0.41\n",
       "Cheapest 1GB for 30 days (USD)                                0.09\n",
       "Most expensive 1GB (USD)                                     118.2\n",
       "Average price of 1GB (USD  at the start of 2021)              0.81\n",
       "Average price of 1GB (USD – at start of 2020)                 1.21\n",
       "Internet users                                          59470000.0\n",
       "Population                                              64990511.0\n",
       "Avg \\n(Mbit/s)Ookla                                          60.94\n",
       "Name: France, dtype: object"
      ]
     },
     "execution_count": 22,
     "metadata": {},
     "output_type": "execute_result"
    }
   ],
   "source": [
    "internet.iloc[10]"
   ]
  },
  {
   "cell_type": "markdown",
   "metadata": {},
   "source": [
    "You can pass in indices as a list to return a dataframe instead of a series, as you can see in the cell below: **NOTE: I THINK THE DIFFERENCE BETWEEN DATAFRAME AND SERIES WAS NEVER MENTIONED**"
   ]
  },
  {
   "cell_type": "code",
   "execution_count": 23,
   "metadata": {},
   "outputs": [
    {
     "data": {
      "text/html": [
       "<div>\n",
       "<style scoped>\n",
       "    .dataframe tbody tr th:only-of-type {\n",
       "        vertical-align: middle;\n",
       "    }\n",
       "\n",
       "    .dataframe tbody tr th {\n",
       "        vertical-align: top;\n",
       "    }\n",
       "\n",
       "    .dataframe thead th {\n",
       "        text-align: right;\n",
       "    }\n",
       "</style>\n",
       "<table border=\"1\" class=\"dataframe\">\n",
       "  <thead>\n",
       "    <tr style=\"text-align: right;\">\n",
       "      <th></th>\n",
       "      <th>Country code</th>\n",
       "      <th>Continental region</th>\n",
       "      <th>NO. OF Internet Plans</th>\n",
       "      <th>Average price of 1GB (USD)</th>\n",
       "      <th>Cheapest 1GB for 30 days (USD)</th>\n",
       "      <th>Most expensive 1GB (USD)</th>\n",
       "      <th>Average price of 1GB (USD  at the start of 2021)</th>\n",
       "      <th>Average price of 1GB (USD – at start of 2020)</th>\n",
       "      <th>Internet users</th>\n",
       "      <th>Population</th>\n",
       "      <th>Avg \\n(Mbit/s)Ookla</th>\n",
       "    </tr>\n",
       "    <tr>\n",
       "      <th>Country</th>\n",
       "      <th></th>\n",
       "      <th></th>\n",
       "      <th></th>\n",
       "      <th></th>\n",
       "      <th></th>\n",
       "      <th></th>\n",
       "      <th></th>\n",
       "      <th></th>\n",
       "      <th></th>\n",
       "      <th></th>\n",
       "      <th></th>\n",
       "    </tr>\n",
       "  </thead>\n",
       "  <tbody>\n",
       "    <tr>\n",
       "      <th>France</th>\n",
       "      <td>FR</td>\n",
       "      <td>WESTERN EUROPE</td>\n",
       "      <td>45.0</td>\n",
       "      <td>0.41</td>\n",
       "      <td>0.09</td>\n",
       "      <td>118.2</td>\n",
       "      <td>0.81</td>\n",
       "      <td>1.21</td>\n",
       "      <td>59470000.0</td>\n",
       "      <td>64990511.0</td>\n",
       "      <td>60.94</td>\n",
       "    </tr>\n",
       "  </tbody>\n",
       "</table>\n",
       "</div>"
      ],
      "text/plain": [
       "        Country code Continental region  NO. OF Internet Plans  \\\n",
       "Country                                                          \n",
       "France            FR     WESTERN EUROPE                   45.0   \n",
       "\n",
       "        Average price of 1GB (USD)  Cheapest 1GB for 30 days (USD)  \\\n",
       "Country                                                              \n",
       "France                        0.41                            0.09   \n",
       "\n",
       "         Most expensive 1GB (USD)  \\\n",
       "Country                             \n",
       "France                      118.2   \n",
       "\n",
       "        Average price of 1GB (USD  at the start of 2021)  \\\n",
       "Country                                                    \n",
       "France                                              0.81   \n",
       "\n",
       "        Average price of 1GB (USD – at start of 2020)  Internet users  \\\n",
       "Country                                                                 \n",
       "France                                           1.21      59470000.0   \n",
       "\n",
       "         Population  Avg \\n(Mbit/s)Ookla  \n",
       "Country                                   \n",
       "France   64990511.0                60.94  "
      ]
     },
     "execution_count": 23,
     "metadata": {},
     "output_type": "execute_result"
    }
   ],
   "source": [
    "internet.iloc[[10]]"
   ]
  },
  {
   "cell_type": "code",
   "execution_count": null,
   "metadata": {},
   "outputs": [],
   "source": [
    "#EXERCISE - Use iloc to grab information on the country found at index 50\n",
    "\n",
    "internet.iloc[...]"
   ]
  },
  {
   "cell_type": "markdown",
   "metadata": {},
   "source": [
    "You can also grab specific rows by passing a list of indices:"
   ]
  },
  {
   "cell_type": "code",
   "execution_count": null,
   "metadata": {
    "scrolled": true
   },
   "outputs": [],
   "source": [
    "internet.iloc[[1,3,6,8,9]]"
   ]
  },
  {
   "cell_type": "markdown",
   "metadata": {},
   "source": [
    "Recall __start:stop:step__ from lists? We can also select a range of rows with a specified step value in our data DataFrame. Below we will take every 2nd element from the row 0 to row 10.\n",
    "\n",
    "**Remember `iloc` is exclusive for the stop index! In other words, it only goes until stopIndex-1**"
   ]
  },
  {
   "cell_type": "code",
   "execution_count": null,
   "metadata": {
    "scrolled": true
   },
   "outputs": [],
   "source": [
    "internet.iloc[0:11:2]"
   ]
  },
  {
   "cell_type": "code",
   "execution_count": null,
   "metadata": {
    "scrolled": true
   },
   "outputs": [],
   "source": [
    "#EXERCISE - use iloc to get every 5th element from row 0 to row 150\n",
    "\n",
    "internet.iloc[...]"
   ]
  },
  {
   "cell_type": "markdown",
   "metadata": {},
   "source": [
    "We can also use `loc` to grab columns. Don't forget that we are still using `loc`, so we will have to use column labels."
   ]
  },
  {
   "cell_type": "code",
   "execution_count": 25,
   "metadata": {
    "scrolled": true
   },
   "outputs": [
    {
     "data": {
      "text/plain": [
       "Country\n",
       "Israel                              20.95\n",
       "Kyrgyzstan                           7.08\n",
       "Fiji                                 0.85\n",
       "Italy                                3.54\n",
       "Sudan                                0.92\n",
       "                                    ...  \n",
       "Vatican City (Holy See)               NaN\n",
       "Venezuela                             NaN\n",
       "Wallis and Futuna                     NaN\n",
       "Democratic Republic of the Congo      NaN\n",
       "Zimbabwe                              NaN\n",
       "Name: Most expensive 1GB (USD), Length: 242, dtype: float64"
      ]
     },
     "execution_count": 25,
     "metadata": {},
     "output_type": "execute_result"
    }
   ],
   "source": [
    "# EXAMPLE\n",
    "\n",
    "internet.loc[:,'Most expensive 1GB (USD)']"
   ]
  },
  {
   "cell_type": "markdown",
   "metadata": {},
   "source": [
    "Another way to index by only one column is by adding the column label in a list. It will return a a one-column DataFrame because we passed a list. "
   ]
  },
  {
   "cell_type": "code",
   "execution_count": 24,
   "metadata": {},
   "outputs": [
    {
     "data": {
      "text/html": [
       "<div>\n",
       "<style scoped>\n",
       "    .dataframe tbody tr th:only-of-type {\n",
       "        vertical-align: middle;\n",
       "    }\n",
       "\n",
       "    .dataframe tbody tr th {\n",
       "        vertical-align: top;\n",
       "    }\n",
       "\n",
       "    .dataframe thead th {\n",
       "        text-align: right;\n",
       "    }\n",
       "</style>\n",
       "<table border=\"1\" class=\"dataframe\">\n",
       "  <thead>\n",
       "    <tr style=\"text-align: right;\">\n",
       "      <th></th>\n",
       "      <th>Most expensive 1GB (USD)</th>\n",
       "    </tr>\n",
       "    <tr>\n",
       "      <th>Country</th>\n",
       "      <th></th>\n",
       "    </tr>\n",
       "  </thead>\n",
       "  <tbody>\n",
       "    <tr>\n",
       "      <th>Israel</th>\n",
       "      <td>20.95</td>\n",
       "    </tr>\n",
       "    <tr>\n",
       "      <th>Kyrgyzstan</th>\n",
       "      <td>7.08</td>\n",
       "    </tr>\n",
       "    <tr>\n",
       "      <th>Fiji</th>\n",
       "      <td>0.85</td>\n",
       "    </tr>\n",
       "    <tr>\n",
       "      <th>Italy</th>\n",
       "      <td>3.54</td>\n",
       "    </tr>\n",
       "    <tr>\n",
       "      <th>Sudan</th>\n",
       "      <td>0.92</td>\n",
       "    </tr>\n",
       "    <tr>\n",
       "      <th>...</th>\n",
       "      <td>...</td>\n",
       "    </tr>\n",
       "    <tr>\n",
       "      <th>Vatican City (Holy See)</th>\n",
       "      <td>NaN</td>\n",
       "    </tr>\n",
       "    <tr>\n",
       "      <th>Venezuela</th>\n",
       "      <td>NaN</td>\n",
       "    </tr>\n",
       "    <tr>\n",
       "      <th>Wallis and Futuna</th>\n",
       "      <td>NaN</td>\n",
       "    </tr>\n",
       "    <tr>\n",
       "      <th>Democratic Republic of the Congo</th>\n",
       "      <td>NaN</td>\n",
       "    </tr>\n",
       "    <tr>\n",
       "      <th>Zimbabwe</th>\n",
       "      <td>NaN</td>\n",
       "    </tr>\n",
       "  </tbody>\n",
       "</table>\n",
       "<p>242 rows × 1 columns</p>\n",
       "</div>"
      ],
      "text/plain": [
       "                                  Most expensive 1GB (USD)\n",
       "Country                                                   \n",
       "Israel                                               20.95\n",
       "Kyrgyzstan                                            7.08\n",
       "Fiji                                                  0.85\n",
       "Italy                                                 3.54\n",
       "Sudan                                                 0.92\n",
       "...                                                    ...\n",
       "Vatican City (Holy See)                                NaN\n",
       "Venezuela                                              NaN\n",
       "Wallis and Futuna                                      NaN\n",
       "Democratic Republic of the Congo                       NaN\n",
       "Zimbabwe                                               NaN\n",
       "\n",
       "[242 rows x 1 columns]"
      ]
     },
     "execution_count": 24,
     "metadata": {},
     "output_type": "execute_result"
    }
   ],
   "source": [
    "# EXAMPLE\n",
    "\n",
    "internet.loc[:,['Most expensive 1GB (USD)']]"
   ]
  },
  {
   "cell_type": "markdown",
   "metadata": {},
   "source": [
    "Notice that here we had to specify the range of rows that we want to index that column by. We used `:` in order to return all values in the column."
   ]
  },
  {
   "cell_type": "markdown",
   "metadata": {},
   "source": [
    "`iloc` works just as `loc`, but instead of using labels we use the index. How would you use iloc to get the 'Most expensive 1GB (USD)' column?\n",
    "\n",
    "_Hint: If you don't remember the order of columns, create a new cell and use `.columns` on your dataframe. Remember we start counting from 0!_\n",
    "\n"
   ]
  },
  {
   "cell_type": "code",
   "execution_count": null,
   "metadata": {
    "scrolled": true
   },
   "outputs": [],
   "source": [
    "# EXERCISE\n",
    "\n",
    "internet.iloc[...]"
   ]
  },
  {
   "cell_type": "markdown",
   "metadata": {},
   "source": [
    "Just as we sliced rows, we can do the same with columns. In the cell below, use `loc` and return all rows for columns *Country code* through *NO. OF Internet Plans* (inclusive of the last column).\n",
    "\n"
   ]
  },
  {
   "cell_type": "code",
   "execution_count": null,
   "metadata": {
    "scrolled": true
   },
   "outputs": [],
   "source": [
    "# EXERCISE\n",
    "\n",
    "internet.loc[...]"
   ]
  },
  {
   "cell_type": "markdown",
   "metadata": {},
   "source": [
    "Now do the same thing, but with `iloc`.\n",
    "\n",
    "_Remember that iloc is exclusive!_"
   ]
  },
  {
   "cell_type": "code",
   "execution_count": null,
   "metadata": {
    "scrolled": true
   },
   "outputs": [],
   "source": [
    "#EXERCISE\n",
    "\n",
    "internet.iloc[...]"
   ]
  },
  {
   "cell_type": "markdown",
   "metadata": {},
   "source": [
    "### 1.2 Uniqueness  <a id='subsection2'></a>"
   ]
  },
  {
   "cell_type": "markdown",
   "metadata": {},
   "source": [
    "Suppose that we want to find out the number of unique continental regions in our data. The `.unique()` method allows us to check this. \n",
    "\n",
    "There are two ways to accomplish this, one is using the \"dot\" notation, and the other using brackets. For the most part, we will stick to the second method as it can be easy to run into errors.\n",
    "\n",
    "Method 1: **`df.column_label.unique( )`**\n",
    "\n",
    "Method 2: **`df['column_label'].unique( )`**\n"
   ]
  },
  {
   "cell_type": "code",
   "execution_count": 26,
   "metadata": {},
   "outputs": [
    {
     "data": {
      "text/plain": [
       "array(['NEAR EAST', 'CIS (FORMER USSR)', 'OCEANIA', 'WESTERN EUROPE',\n",
       "       'SUB-SAHARAN AFRICA', 'EASTERN EUROPE', 'ASIA (EX. NEAR EAST)',\n",
       "       'SOUTH AMERICA', 'NORTHERN AFRICA', 'CARIBBEAN', 'CENTRAL AMERICA',\n",
       "       'BALTICS', 'NORTHERN AMERICA', 'Europe'], dtype=object)"
      ]
     },
     "execution_count": 26,
     "metadata": {},
     "output_type": "execute_result"
    }
   ],
   "source": [
    "internet['Continental region'].unique()"
   ]
  },
  {
   "cell_type": "markdown",
   "metadata": {},
   "source": [
    "We can also use the method `.nunique()` to tell us how _many_ unique items we have rather which items. An alternative way to compute this is __`len(df['column_label'].nunique())`__."
   ]
  },
  {
   "cell_type": "code",
   "execution_count": null,
   "metadata": {},
   "outputs": [],
   "source": [
    "# EXAMPLE\n",
    "\n",
    "internet['Continental region'].nunique()"
   ]
  },
  {
   "cell_type": "markdown",
   "metadata": {},
   "source": [
    "In the cell below, figure out how many unique number of internet plans there are."
   ]
  },
  {
   "cell_type": "code",
   "execution_count": null,
   "metadata": {},
   "outputs": [],
   "source": [
    "# EXERCISE\n",
    "\n",
    "internet['...']...."
   ]
  },
  {
   "cell_type": "markdown",
   "metadata": {},
   "source": [
    "### 1.3 Frequencies  <a id='subsection3'></a>"
   ]
  },
  {
   "cell_type": "markdown",
   "metadata": {},
   "source": [
    "Say we want to find out how many instances of each continental region exists. In this case, we would use the `.value_counts()` method. This method returns the counts for the unique values in our column. "
   ]
  },
  {
   "cell_type": "code",
   "execution_count": 27,
   "metadata": {},
   "outputs": [
    {
     "data": {
      "text/plain": [
       "SUB-SAHARAN AFRICA      49\n",
       "CARIBBEAN               32\n",
       "WESTERN EUROPE          30\n",
       "ASIA (EX. NEAR EAST)    28\n",
       "OCEANIA                 24\n",
       "NEAR EAST               16\n",
       "EASTERN EUROPE          14\n",
       "SOUTH AMERICA           14\n",
       "CIS (FORMER USSR)       11\n",
       "NORTHERN AFRICA          8\n",
       "CENTRAL AMERICA          8\n",
       "NORTHERN AMERICA         4\n",
       "BALTICS                  3\n",
       "Europe                   1\n",
       "Name: Continental region, dtype: int64"
      ]
     },
     "execution_count": 27,
     "metadata": {},
     "output_type": "execute_result"
    }
   ],
   "source": [
    "# EXAMPLE\n",
    "\n",
    "internet['Continental region'].value_counts()"
   ]
  },
  {
   "cell_type": "markdown",
   "metadata": {},
   "source": [
    "Now let's try to find out the counts for the number of internet plans."
   ]
  },
  {
   "cell_type": "code",
   "execution_count": null,
   "metadata": {},
   "outputs": [],
   "source": [
    "# EXERCISE\n",
    "\n",
    "internet['...']...."
   ]
  },
  {
   "cell_type": "markdown",
   "metadata": {},
   "source": [
    "### 1.4 Sorting  <a id='subsection4'></a>"
   ]
  },
  {
   "cell_type": "markdown",
   "metadata": {},
   "source": [
    "Notice that this method sorts our values in decreasing order. What if you had an alternative sorting that you wanted to use? Maybe you want to sort by index, that is, by alphabetical order. In this case you would want to use the `sort_index()` method as seen below. "
   ]
  },
  {
   "cell_type": "code",
   "execution_count": 29,
   "metadata": {
    "scrolled": true
   },
   "outputs": [
    {
     "data": {
      "text/plain": [
       "ASIA (EX. NEAR EAST)    28\n",
       "BALTICS                  3\n",
       "CARIBBEAN               32\n",
       "CENTRAL AMERICA          8\n",
       "CIS (FORMER USSR)       11\n",
       "EASTERN EUROPE          14\n",
       "Europe                   1\n",
       "NEAR EAST               16\n",
       "NORTHERN AFRICA          8\n",
       "NORTHERN AMERICA         4\n",
       "OCEANIA                 24\n",
       "SOUTH AMERICA           14\n",
       "SUB-SAHARAN AFRICA      49\n",
       "WESTERN EUROPE          30\n",
       "Name: Continental region, dtype: int64"
      ]
     },
     "execution_count": 29,
     "metadata": {},
     "output_type": "execute_result"
    }
   ],
   "source": [
    "# EXAMPLE\n",
    "\n",
    "internet['Continental region'].value_counts().sort_index()"
   ]
  },
  {
   "cell_type": "markdown",
   "metadata": {},
   "source": [
    "If instead you wanted to sort by counts, but in ascending (from smallest to largest) order, you can use the `.sort_values()` method instead with the argument __ascending = True__."
   ]
  },
  {
   "cell_type": "code",
   "execution_count": 31,
   "metadata": {},
   "outputs": [
    {
     "data": {
      "text/plain": [
       "Europe                   1\n",
       "BALTICS                  3\n",
       "NORTHERN AMERICA         4\n",
       "NORTHERN AFRICA          8\n",
       "CENTRAL AMERICA          8\n",
       "CIS (FORMER USSR)       11\n",
       "EASTERN EUROPE          14\n",
       "SOUTH AMERICA           14\n",
       "NEAR EAST               16\n",
       "OCEANIA                 24\n",
       "ASIA (EX. NEAR EAST)    28\n",
       "WESTERN EUROPE          30\n",
       "CARIBBEAN               32\n",
       "SUB-SAHARAN AFRICA      49\n",
       "Name: Continental region, dtype: int64"
      ]
     },
     "execution_count": 31,
     "metadata": {},
     "output_type": "execute_result"
    }
   ],
   "source": [
    "# EXAMPLE\n",
    "\n",
    "internet['Continental region'].value_counts().sort_values(ascending=True)"
   ]
  },
  {
   "cell_type": "markdown",
   "metadata": {},
   "source": [
    "We can also use `sort_values()` without calling `value_counts()` first. In the cell below, try using `sort_values()` for the column 'Most expensive 1GB (USD)'. Have it so that it sorts in decreasing order (highest to lowest):"
   ]
  },
  {
   "cell_type": "code",
   "execution_count": null,
   "metadata": {},
   "outputs": [],
   "source": [
    "# EXERCISE\n",
    "\n",
    "internet['...']...."
   ]
  },
  {
   "cell_type": "markdown",
   "metadata": {},
   "source": [
    "You might notice that we are getting some **NaN** values! This will be revisited in section 1.6."
   ]
  },
  {
   "cell_type": "markdown",
   "metadata": {},
   "source": [
    "### 1.5 Min, Max, Range  <a id='subsection5'></a>"
   ]
  },
  {
   "cell_type": "markdown",
   "metadata": {},
   "source": [
    "Say that for our analysis we want to find out which country has the highest number of internet users and which country has the lowest number of internet users.\n",
    "\n",
    "A good starting point might be to see what the __min__ and the __max__ are for our data. We can do this by using the functions `.min()` and `.max()` respectably. "
   ]
  },
  {
   "cell_type": "code",
   "execution_count": 33,
   "metadata": {
    "scrolled": true
   },
   "outputs": [
    {
     "name": "stdout",
     "output_type": "stream",
     "text": [
      "Min number of users is : 1034.0\n",
      "Max number of users is : 1010740000.0\n"
     ]
    }
   ],
   "source": [
    "# EXAMPLE\n",
    "\n",
    "print('Min number of users is :',internet['Internet users'].min())\n",
    "print('Max number of users is :',internet['Internet users'].max())"
   ]
  },
  {
   "cell_type": "markdown",
   "metadata": {},
   "source": [
    "To get the range, all you need to do is subtract the min from the max! Let's do this in the cell below:"
   ]
  },
  {
   "cell_type": "code",
   "execution_count": null,
   "metadata": {},
   "outputs": [],
   "source": [
    "# EXERCISE\n",
    "\n",
    "internet_users_max = ...\n",
    "internet_users_min = ...\n",
    "internet_users_range = ...\n",
    "\n",
    "print(\"The range is \", internet_users_range) "
   ]
  },
  {
   "cell_type": "markdown",
   "metadata": {},
   "source": [
    "Now try to find the range for *Most expensive 1GB (USD)*"
   ]
  },
  {
   "cell_type": "code",
   "execution_count": null,
   "metadata": {},
   "outputs": [],
   "source": [
    "#EXERCISE\n",
    "\n",
    "#YOUR CODE HERE\n"
   ]
  },
  {
   "cell_type": "markdown",
   "metadata": {},
   "source": [
    "### 1.6 Missing Values  <a id='subsection6'></a>"
   ]
  },
  {
   "cell_type": "markdown",
   "metadata": {},
   "source": [
    "A common problem that you will come across when analyzing data is **missing** data. You can check if your data set contains missing data by using the function `.isnull()`. This function returns **True** whenever a values is missing (`Null`, `NaN`) and **False** whenever it is not. We can combine this function with `.sum()` to add up all the values that are True  & False.\n",
    "\n",
    "*In Python (as in most programming languages), True is represented by 1, and False by 0. So using the `.sum()` function allows us to treat these True/False as numerical values.* **NOTE: THIS COULD ALSO BE EXPLAINED IN NOTEBOOK 3**"
   ]
  },
  {
   "cell_type": "code",
   "execution_count": 32,
   "metadata": {
    "scrolled": true
   },
   "outputs": [
    {
     "data": {
      "text/plain": [
       "Country code                                          0\n",
       "Continental region                                    0\n",
       "NO. OF Internet Plans                                11\n",
       "Average price of 1GB (USD)                            0\n",
       "Cheapest 1GB for 30 days (USD)                       11\n",
       "Most expensive 1GB (USD)                             11\n",
       "Average price of 1GB (USD  at the start of 2021)     11\n",
       "Average price of 1GB (USD – at start of 2020)        11\n",
       "Internet users                                       30\n",
       "Population                                           32\n",
       "Avg \\n(Mbit/s)Ookla                                 101\n",
       "dtype: int64"
      ]
     },
     "execution_count": 32,
     "metadata": {},
     "output_type": "execute_result"
    }
   ],
   "source": [
    "# EXAMPLE\n",
    "\n",
    "internet.isnull().sum()"
   ]
  },
  {
   "cell_type": "markdown",
   "metadata": {},
   "source": [
    "Notice that for the example above we checked for the number of missing values in each of the columns? What if you only wanted to do it for one? You can use the same methods we discuss prior, that is bracket and dot notation."
   ]
  },
  {
   "cell_type": "code",
   "execution_count": 34,
   "metadata": {},
   "outputs": [
    {
     "data": {
      "text/plain": [
       "11"
      ]
     },
     "execution_count": 34,
     "metadata": {},
     "output_type": "execute_result"
    }
   ],
   "source": [
    "# EXAMPLE\n",
    "\n",
    "internet['NO. OF Internet Plans'].isnull().sum()"
   ]
  },
  {
   "cell_type": "markdown",
   "metadata": {},
   "source": [
    "In the cell below, find the number of null values in the column *Population*. "
   ]
  },
  {
   "cell_type": "code",
   "execution_count": null,
   "metadata": {},
   "outputs": [],
   "source": [
    "# EXERCISE\n",
    "\n",
    "internet['...']...."
   ]
  },
  {
   "cell_type": "markdown",
   "metadata": {},
   "source": [
    "However, **`Null`** and **`NaN`** are not the only ways to represent missing value. Sometimes, they can appear as `999` (commonly used in census or other data involving humans) or even `-1`.\n",
    "\n",
    "In this data set, you might notice that instead of numerical values there are some notes - for example, if you look at the column *Average price of 1GB (USD)*, you will notice some countries with 'NO PROVIDERS' among other things.\n",
    "\n",
    "**Discuss:** Would these count as null values / missing data? Why or why not?"
   ]
  },
  {
   "cell_type": "markdown",
   "metadata": {},
   "source": [
    "## Booleans & Boolean Indexing <a id='section2'></a>"
   ]
  },
  {
   "cell_type": "markdown",
   "metadata": {},
   "source": [
    "Suppose we only want to look at the countries that have less than 10 internet plans. We will use **boolean indexing** to create a DataFrame that meets this criteria. \n",
    "\n",
    "Boolean indexing allows us to define what kind of data we want to output. For example, we can only select rows that correspond to a specific continental region or choose the rows that are below a selected number of internet plans.\n",
    "\n",
    "We will use **comparison operators** in boolean indexing - below is the table from notebook 03:\n",
    "\n",
    "|Operator| Meaning|\n",
    "|--------|---------|\n",
    "|< | less than |\n",
    "|<= | less than or equal to|\n",
    "|> | greater than |\n",
    "|>= | greater than or equal to|\n",
    "|!= | not equal to|\n",
    "|== | equal to|\n",
    "\n",
    "Often people use the term **filtering data** when using boolean indexing. It's easier to break-up boolean indexing in steps by first creating a filter that specifies your criteria, then passing that filter to your dataframe."
   ]
  },
  {
   "cell_type": "markdown",
   "metadata": {},
   "source": [
    "For example, let's say we only wanted to look at countries that have **less than 10 internet plans.**\n",
    "\n",
    "First, let's create a filter using the appropriate comparison operator:"
   ]
  },
  {
   "cell_type": "code",
   "execution_count": 35,
   "metadata": {},
   "outputs": [
    {
     "data": {
      "text/plain": [
       "Country\n",
       "Israel                              False\n",
       "Kyrgyzstan                          False\n",
       "Fiji                                False\n",
       "Italy                               False\n",
       "Sudan                               False\n",
       "                                    ...  \n",
       "Vatican City (Holy See)             False\n",
       "Venezuela                           False\n",
       "Wallis and Futuna                   False\n",
       "Democratic Republic of the Congo    False\n",
       "Zimbabwe                            False\n",
       "Name: NO. OF Internet Plans, Length: 242, dtype: bool"
      ]
     },
     "execution_count": 35,
     "metadata": {},
     "output_type": "execute_result"
    }
   ],
   "source": [
    "# EXAMPLE\n",
    "\n",
    "internet_plan_filter = internet['NO. OF Internet Plans'] < 10\n",
    "internet_plan_filter"
   ]
  },
  {
   "cell_type": "markdown",
   "metadata": {},
   "source": [
    "Next, we will pass this filter into our original dataframe:"
   ]
  },
  {
   "cell_type": "code",
   "execution_count": null,
   "metadata": {},
   "outputs": [],
   "source": [
    "#EXAMPLE\n",
    "\n",
    "internet[internet_plan_filter]"
   ]
  },
  {
   "cell_type": "markdown",
   "metadata": {},
   "source": [
    "You can see that with the filter applied, we are only looking at data of the countries that fulfill the condition of having less than 10 internet plans.\n",
    "\n",
    "In the cell below, try changing the filter so that it now only looks at countries with 50 or more internet plans:"
   ]
  },
  {
   "cell_type": "code",
   "execution_count": null,
   "metadata": {},
   "outputs": [],
   "source": [
    "# EXERCISE\n",
    "\n",
    "internet_plan_filter = internet['...'] ...\n",
    "internet[internet_plan_filter]"
   ]
  },
  {
   "cell_type": "markdown",
   "metadata": {},
   "source": [
    "How many countries have 50 or more internet plans?\n",
    "\n",
    "**Hint:** you can use our old friend `len()`."
   ]
  },
  {
   "cell_type": "code",
   "execution_count": null,
   "metadata": {},
   "outputs": [],
   "source": [
    "# EXERCISE\n",
    "\n",
    "#YOUR CODE HERE"
   ]
  },
  {
   "cell_type": "markdown",
   "metadata": {},
   "source": [
    "We can also see if rows of data fulfill multiple conditions. We can use `&` to unite them in our filter.\n",
    "\n",
    "**Note**: if we want to use two or more specifications, we need to pass each of them in a separate set of parentheses. The structure should look like this:\n",
    "\n",
    "`(argument 1) & (argument 2)`"
   ]
  },
  {
   "cell_type": "markdown",
   "metadata": {},
   "source": [
    "In the example below, let's find countries that have 50 or more internet plans located in the continental region of Sub-Saharan Africa:"
   ]
  },
  {
   "cell_type": "code",
   "execution_count": null,
   "metadata": {},
   "outputs": [],
   "source": [
    "# EXAMPLE\n",
    "\n",
    "internet_plan_filter = (internet['NO. OF Internet Plans'] >= 50) & (internet['Continental region'] == 'SUB-SAHARAN AFRICA')\n",
    "\n",
    "internet[internet_plan_filter]"
   ]
  },
  {
   "cell_type": "markdown",
   "metadata": {},
   "source": [
    "In the cell below, find countries in the continental region Western Europe that have a value less than 0.5 USD for the cheapest 1GB of internet for 30 days:"
   ]
  },
  {
   "cell_type": "code",
   "execution_count": null,
   "metadata": {},
   "outputs": [],
   "source": [
    "# EXERCISE\n",
    "\n",
    "internet_price_filter = (internet['...'] ...) & (internet['...'] ...)\n",
    "\n",
    "internet[...]"
   ]
  },
  {
   "cell_type": "markdown",
   "metadata": {},
   "source": [
    "In the cell below, find countries in the region South America that has a population greater than 10 million (10000000) and have less than 50 internet plans."
   ]
  },
  {
   "cell_type": "code",
   "execution_count": null,
   "metadata": {},
   "outputs": [],
   "source": [
    "# EXERCISE\n",
    "\n",
    "internet_filter = ...\n",
    "\n",
    "internet[...]"
   ]
  },
  {
   "cell_type": "markdown",
   "metadata": {},
   "source": [
    "---\n",
    "Notebook developed by: Kseniya Usovich, Karla Palos, Alisa Bettale"
   ]
  }
 ],
 "metadata": {
  "anaconda-cloud": {},
  "kernelspec": {
   "display_name": "Python 3 (ipykernel)",
   "language": "python",
   "name": "python3"
  },
  "language_info": {
   "codemirror_mode": {
    "name": "ipython",
    "version": 3
   },
   "file_extension": ".py",
   "mimetype": "text/x-python",
   "name": "python",
   "nbconvert_exporter": "python",
   "pygments_lexer": "ipython3",
   "version": "3.10.12"
  }
 },
 "nbformat": 4,
 "nbformat_minor": 4
}
